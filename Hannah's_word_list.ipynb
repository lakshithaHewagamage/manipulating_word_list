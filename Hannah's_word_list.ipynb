{
  "nbformat": 4,
  "nbformat_minor": 0,
  "metadata": {
    "colab": {
      "name": "Hannah's word list.ipynb",
      "provenance": [],
      "collapsed_sections": []
    },
    "kernelspec": {
      "name": "python3",
      "display_name": "Python 3"
    },
    "language_info": {
      "name": "python"
    }
  },
  "cells": [
    {
      "cell_type": "markdown",
      "metadata": {
        "id": "49A779JX9FRs"
      },
      "source": [
        "# Imports\n"
      ]
    },
    {
      "cell_type": "code",
      "metadata": {
        "colab": {
          "base_uri": "https://localhost:8080/",
          "height": 132
        },
        "id": "raLT8LcL6d6q",
        "outputId": "b01e0c56-6538-49cf-9752-cd678c6e97ec"
      },
      "source": [
        "import numpy as np\n",
        "import pandas as pd"
      ],
      "execution_count": 109,
      "outputs": [
        {
          "output_type": "error",
          "ename": "SyntaxError",
          "evalue": "ignored",
          "traceback": [
            "\u001b[0;36m  File \u001b[0;32m\"<ipython-input-109-3bcbc5a3713b>\"\u001b[0;36m, line \u001b[0;32m6\u001b[0m\n\u001b[0;31m    print len(word_list)\u001b[0m\n\u001b[0m            ^\u001b[0m\n\u001b[0;31mSyntaxError\u001b[0m\u001b[0;31m:\u001b[0m invalid syntax\n"
          ]
        }
      ]
    },
    {
      "cell_type": "markdown",
      "metadata": {
        "id": "qVmnODuZ9N_R"
      },
      "source": [
        "**arrange_data() function**"
      ]
    },
    {
      "cell_type": "code",
      "metadata": {
        "id": "pIU4EGy9cTiM"
      },
      "source": [
        "def arrange_data(words_before):\n",
        "  words_before.sort()\n",
        "  arranged_words=[]\n",
        "  for i in words_before:\n",
        "    arranged_words.append(i)\n",
        "\n",
        "  return arranged_words"
      ],
      "execution_count": 92,
      "outputs": []
    },
    {
      "cell_type": "markdown",
      "metadata": {
        "id": "Sm59qXkg9UzJ"
      },
      "source": [
        "**insert_data() function**"
      ]
    },
    {
      "cell_type": "code",
      "metadata": {
        "id": "UGSJ1KUAro5P"
      },
      "source": [
        "def insert_data(arranged_words):\n",
        "  word=input(\"Enter the new word :\")\n",
        "  arranged_words.append(word)\n",
        "  new=arrange_data(arranged_words)\n",
        "  \n",
        "  return new"
      ],
      "execution_count": 93,
      "outputs": []
    },
    {
      "cell_type": "markdown",
      "metadata": {
        "id": "Hvc4pftb9a1a"
      },
      "source": [
        "**search_data() function**"
      ]
    },
    {
      "cell_type": "code",
      "metadata": {
        "id": "YCJd6UvpyLb1"
      },
      "source": [
        "def serch_data(words_before):\n",
        "  word=input(\"enter first 3 characters need to search from the list :\")\n",
        "  found_words=[]\n",
        "  for i in arranged_words:\n",
        "    if word in i:\n",
        "      found_words.append(i)\n",
        "  print(\"Related words are :\")\n",
        "  print(found_words)"
      ],
      "execution_count": 116,
      "outputs": []
    },
    {
      "cell_type": "markdown",
      "metadata": {
        "id": "3CUIMBPj9nKl"
      },
      "source": [
        "**spelling_change() function**"
      ]
    },
    {
      "cell_type": "code",
      "metadata": {
        "id": "K5dACkM9zTdh"
      },
      "source": [
        "def spelling_change(words_before):\n",
        "  print(\"word list is :\")\n",
        "  print(words_before)\n",
        "  word=input(\"Enter the word need to change the spellings :\")\n",
        "  if word in words_before:\n",
        "    index=words_before.index(word)\n",
        "    words_before.pop(index)\n",
        "    new_word=input(\"Entr new spellings \")\n",
        "  words_before.append(new_word)\n",
        "  updated=arrange_data(words_before)\n",
        "  \n",
        "  return updated"
      ],
      "execution_count": 95,
      "outputs": []
    },
    {
      "cell_type": "markdown",
      "metadata": {
        "id": "o6xBsJqc9t-D"
      },
      "source": [
        "**delete_data() function**"
      ]
    },
    {
      "cell_type": "code",
      "metadata": {
        "id": "OvBAJ2GJ5eY1"
      },
      "source": [
        "def delete_data(words_before):\n",
        "  print(\"word list is :\")\n",
        "  print(words_before)\n",
        "  word=input(\"Enter the word need to delete from list :\")\n",
        "  if word in words_before:\n",
        "    index=words_before.index(word)\n",
        "    words_before.pop(index)\n",
        "    \n",
        "  updated=arrange_data(words_before)\n",
        " \n",
        "  return updated"
      ],
      "execution_count": 96,
      "outputs": []
    },
    {
      "cell_type": "markdown",
      "metadata": {
        "id": "PieF8ccL9zbq"
      },
      "source": [
        "**word_list() function**"
      ]
    },
    {
      "cell_type": "code",
      "metadata": {
        "id": "_42_zrlc632A"
      },
      "source": [
        "def word_list(words_before):\n",
        "  temp=[]\n",
        "  for i in words_before:\n",
        "    if i not in temp:\n",
        "      temp.append(i)\n",
        "  words_before=temp\n",
        "  new=arrange_data(words_before)\n",
        "  word_list={\n",
        "      \"words\" :words_before\n",
        "  }\n",
        "  df=pd.DataFrame(word_list)\n",
        "  print(df)"
      ],
      "execution_count": 113,
      "outputs": []
    },
    {
      "cell_type": "markdown",
      "metadata": {
        "id": "429v_77u94jN"
      },
      "source": [
        "# Main"
      ]
    },
    {
      "cell_type": "code",
      "metadata": {
        "id": "XqyUEn-JppFw"
      },
      "source": [
        "words_before=['apple','amma','oliv','orange','pine-apple','mangoos','Eosinophilic','myocarditis','inflammation','the','heart', 'muscle', 'that', 'caused']\n",
        "print(\"initial word list is :\")\n",
        "print(words_before)\n",
        "print()\n",
        "ch='y'\n",
        "while(ch=='y' or ch=='Y'):\n",
        "  print(\".....Enter the number which operation you want to do .....\")\n",
        "  print(\"1 : Arranged the words in alphabatic order\")\n",
        "  print(\"2 : Insert new words\")\n",
        "  print(\"3 : Search the words\")\n",
        "  print(\"4 : Spelling change\")\n",
        "  print(\"5 : Delete word\")\n",
        "  print(\"6 : word list\")\n",
        "\n",
        "  num=int(input(\"Enter your choice \"))\n",
        "  print()\n",
        "  if(num==1):\n",
        "    arranged_words=arrange_data(words_before)\n",
        "    words_before=arranged_words\n",
        "\n",
        "  elif(num==2):\n",
        "    after=insert_data(words_before)\n",
        "    words_before=after\n",
        "\n",
        "  elif(num==3):\n",
        "    serch_data(words_before)\n",
        "\n",
        "  elif(num==4):\n",
        "    updated=spelling_change(words_before)\n",
        "    words_before=updated\n",
        "\n",
        "  elif(num==5):\n",
        "    updated=delete_data(words_before)\n",
        "    words_before=updated\n",
        "\n",
        "  elif(num==6):\n",
        "    word_list(words_before)\n",
        " \n",
        "  ch='n'\n",
        "  print()\n",
        "  print(\"..Do you want to do more operations...\")\n",
        "  print(\"if yes, enter : y/ Y\")\n",
        "  print(\"otherwise any keyword except y\")\n",
        "  ch=input(\"enter your y or any key \")\n",
        "  print()"
      ],
      "execution_count": null,
      "outputs": []
    }
  ]
}